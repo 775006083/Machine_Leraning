{
 "cells": [
  {
   "cell_type": "markdown",
   "metadata": {},
   "source": [
    "# Classification de text"
   ]
  },
  {
   "cell_type": "markdown",
   "metadata": {},
   "source": [
    "<img src = 'images/TC1.png' style = \"float:right\" width= \"300\">Les données non structurées sous forme de texte sont partout: médias sociaux, e-mails, chats, pages Web, tickets d'assistance, réponses aux sondages, etc. \n",
    "\n",
    "Le texte peut être une source d'informations extrêmement riche, mais en extraire des informations peut être difficile et chronophage, en raison de sa nature non structurée.\n",
    "\n",
    "La **classification de texte**: un processus d'attribution de labels ou de catégories au texte en fonction de son contenu, aidant les entreprises à structurer et analyser automatiquement le texte, rapidement et à moindre coût, pour automatiser les processus et améliorer les décisions basées sur les données."
   ]
  },
  {
   "cell_type": "markdown",
   "metadata": {},
   "source": [
    "<br>"
   ]
  },
  {
   "cell_type": "markdown",
   "metadata": {},
   "source": [
    "La classification de texte (ou catégorisation de texte ou balisage de texte) consiste à attribuer un ensemble de catégories prédéfinies à un texte ouvert. Les classificateurs de texte peuvent être utilisés pour organiser, structurer et catégoriser à peu près n'importe quel type de texte - à partir de documents, d'études médicales et de fichiers, et partout sur le Web. Par exemple, les nouveaux articles peuvent être organisés par thèmes; les tickets de support peuvent être organisés par urgence; les conversations de chat peuvent être organisées par langue; les mentions de marque peuvent être organisées par sentiment; etc.\n",
    "\n",
    "La classification de texte est l'une des tâches fondamentales du traitement du langage naturel avec de larges applications telles que l'analyse des sentiments, l'étiquetage des rubriques, la détection de spam et la détection d'intention.\n",
    "\n",
    "Voici un exemple de son fonctionnement:<img src = 'images/TC2.png' style = \"float:right\" width= \"500\">\n",
    "\n",
    "«L'interface utilisateur est assez simple et facile à utiliser.»\n",
    "\n",
    "Un classificateur de texte peut prendre cette phrase comme entrée, analyser son contenu, puis attribuer automatiquement des balises pertinentes, telles que UI et Easy To Use."
   ]
  },
  {
   "cell_type": "markdown",
   "metadata": {},
   "source": [
    "<img src = 'images/TC3.png' style = \"float:left\" width= \"430\"><img src = 'images/TC4.png' style = \"float:right\" width= \"450\">"
   ]
  },
  {
   "cell_type": "markdown",
   "metadata": {},
   "source": [
    "# Let's Code"
   ]
  },
  {
   "cell_type": "code",
   "execution_count": 3,
   "metadata": {},
   "outputs": [],
   "source": [
    "import keras\n",
    "from keras.datasets import reuters"
   ]
  },
  {
   "cell_type": "code",
   "execution_count": null,
   "metadata": {},
   "outputs": [],
   "source": []
  },
  {
   "cell_type": "markdown",
   "metadata": {},
   "source": [
    "**Chargement des données et split train_test**"
   ]
  },
  {
   "cell_type": "code",
   "execution_count": 4,
   "metadata": {},
   "outputs": [
    {
     "name": "stdout",
     "output_type": "stream",
     "text": [
      "Downloading data from https://storage.googleapis.com/tensorflow/tf-keras-datasets/reuters.npz\n",
      "2113536/2110848 [==============================] - 0s 0us/step\n",
      "2121728/2110848 [==============================] - 1s 0us/step\n"
     ]
    }
   ],
   "source": []
  },
  {
   "cell_type": "code",
   "execution_count": 5,
   "metadata": {},
   "outputs": [
    {
     "name": "stdout",
     "output_type": "stream",
     "text": [
      "[1, 27595, 28842, 8, 43, 10, 447, 5, 25, 207, 270, 5, 3095, 111, 16, 369, 186, 90, 67, 7, 89, 5, 19, 102, 6, 19, 124, 15, 90, 67, 84, 22, 482, 26, 7, 48, 4, 49, 8, 864, 39, 209, 154, 6, 151, 6, 83, 11, 15, 22, 155, 11, 15, 7, 48, 9, 4579, 1005, 504, 6, 258, 6, 272, 11, 15, 22, 134, 44, 11, 15, 16, 8, 197, 1245, 90, 67, 52, 29, 209, 30, 32, 132, 6, 109, 15, 17, 12]\n"
     ]
    }
   ],
   "source": []
  },
  {
   "cell_type": "markdown",
   "metadata": {},
   "source": [
    "**Dictionaire word to index avec la methode reuters.get_word_index()**"
   ]
  },
  {
   "cell_type": "code",
   "execution_count": 6,
   "metadata": {},
   "outputs": [
    {
     "name": "stdout",
     "output_type": "stream",
     "text": [
      "Downloading data from https://storage.googleapis.com/tensorflow/tf-keras-datasets/reuters_word_index.json\n",
      "557056/550378 [==============================] - 0s 1us/step\n",
      "565248/550378 [==============================] - 0s 1us/step\n"
     ]
    }
   ],
   "source": []
  },
  {
   "cell_type": "markdown",
   "metadata": {},
   "source": [
    "**Dataset informations**"
   ]
  },
  {
   "cell_type": "code",
   "execution_count": 7,
   "metadata": {},
   "outputs": [
    {
     "name": "stdout",
     "output_type": "stream",
     "text": [
      "Nombre d'exemple d'entrainement: 8982\n",
      "Nombre d'exemple de test: 2246\n",
      "Nombre de classes: 46\n"
     ]
    }
   ],
   "source": []
  },
  {
   "cell_type": "markdown",
   "metadata": {},
   "source": [
    "**Dictionnaire inverse**"
   ]
  },
  {
   "cell_type": "code",
   "execution_count": 8,
   "metadata": {},
   "outputs": [],
   "source": []
  },
  {
   "cell_type": "code",
   "execution_count": 9,
   "metadata": {},
   "outputs": [
    {
     "name": "stdout",
     "output_type": "stream",
     "text": [
      "the wattie nondiscriminatory mln loss for plc said at only ended said commonwealth could 1 traders now april 0 a after said from 1985 and from foreign 000 april 0 prices its account year a but in this mln home an states earlier and rise and revs vs 000 its 16 vs 000 a but 3 psbr oils several and shareholders and dividend vs 000 its all 4 vs 000 1 mln agreed largely april 0 are 2 states will billion total and against 000 pct dlrs\n",
      "3\n"
     ]
    }
   ],
   "source": []
  },
  {
   "cell_type": "markdown",
   "metadata": {},
   "source": [
    "**Preprocessing**"
   ]
  },
  {
   "cell_type": "code",
   "execution_count": 10,
   "metadata": {},
   "outputs": [],
   "source": []
  },
  {
   "cell_type": "markdown",
   "metadata": {},
   "source": [
    "**tokenizer**"
   ]
  },
  {
   "cell_type": "code",
   "execution_count": 11,
   "metadata": {},
   "outputs": [],
   "source": []
  },
  {
   "cell_type": "markdown",
   "metadata": {},
   "source": [
    "**Creation des inputs**"
   ]
  },
  {
   "cell_type": "code",
   "execution_count": 12,
   "metadata": {},
   "outputs": [],
   "source": []
  },
  {
   "cell_type": "code",
   "execution_count": 13,
   "metadata": {},
   "outputs": [
    {
     "data": {
      "text/plain": [
       "(8982, 10000)"
      ]
     },
     "execution_count": 13,
     "metadata": {},
     "output_type": "execute_result"
    }
   ],
   "source": []
  },
  {
   "cell_type": "code",
   "execution_count": 14,
   "metadata": {},
   "outputs": [
    {
     "data": {
      "text/plain": [
       "(2246, 10000)"
      ]
     },
     "execution_count": 14,
     "metadata": {},
     "output_type": "execute_result"
    }
   ],
   "source": []
  },
  {
   "cell_type": "markdown",
   "metadata": {},
   "source": [
    "**Creation des outputs**"
   ]
  },
  {
   "cell_type": "code",
   "execution_count": 17,
   "metadata": {},
   "outputs": [],
   "source": []
  },
  {
   "cell_type": "code",
   "execution_count": 19,
   "metadata": {},
   "outputs": [],
   "source": []
  },
  {
   "cell_type": "code",
   "execution_count": 24,
   "metadata": {},
   "outputs": [
    {
     "data": {
      "text/plain": [
       "(8982, 46)"
      ]
     },
     "execution_count": 24,
     "metadata": {},
     "output_type": "execute_result"
    }
   ],
   "source": []
  },
  {
   "cell_type": "code",
   "execution_count": 25,
   "metadata": {},
   "outputs": [
    {
     "data": {
      "text/plain": [
       "(2246, 46)"
      ]
     },
     "execution_count": 25,
     "metadata": {},
     "output_type": "execute_result"
    }
   ],
   "source": []
  },
  {
   "cell_type": "code",
   "execution_count": 26,
   "metadata": {},
   "outputs": [
    {
     "data": {
      "text/plain": [
       "3"
      ]
     },
     "execution_count": 26,
     "metadata": {},
     "output_type": "execute_result"
    }
   ],
   "source": []
  },
  {
   "cell_type": "markdown",
   "metadata": {},
   "source": [
    "### Creeation du model"
   ]
  },
  {
   "cell_type": "markdown",
   "metadata": {},
   "source": [
    "**Importation de sequential, Dense, Dropout, Activation**"
   ]
  },
  {
   "cell_type": "code",
   "execution_count": 27,
   "metadata": {},
   "outputs": [],
   "source": []
  },
  {
   "cell_type": "markdown",
   "metadata": {},
   "source": [
    "**Construction du model**"
   ]
  },
  {
   "cell_type": "code",
   "execution_count": 28,
   "metadata": {},
   "outputs": [],
   "source": []
  },
  {
   "cell_type": "code",
   "execution_count": 29,
   "metadata": {},
   "outputs": [
    {
     "name": "stdout",
     "output_type": "stream",
     "text": [
      "Model: \"sequential\"\n",
      "_________________________________________________________________\n",
      " Layer (type)                Output Shape              Param #   \n",
      "=================================================================\n",
      " dense (Dense)               (None, 512)               5120512   \n",
      "                                                                 \n",
      " activation (Activation)     (None, 512)               0         \n",
      "                                                                 \n",
      " dropout (Dropout)           (None, 512)               0         \n",
      "                                                                 \n",
      " dense_1 (Dense)             (None, 46)                23598     \n",
      "                                                                 \n",
      " activation_1 (Activation)   (None, 46)                0         \n",
      "                                                                 \n",
      "=================================================================\n",
      "Total params: 5,144,110\n",
      "Trainable params: 5,144,110\n",
      "Non-trainable params: 0\n",
      "_________________________________________________________________\n"
     ]
    }
   ],
   "source": []
  },
  {
   "cell_type": "code",
   "execution_count": 30,
   "metadata": {},
   "outputs": [
    {
     "name": "stdout",
     "output_type": "stream",
     "text": [
      "Epoch 1/30\n",
      "253/253 [==============================] - 6s 20ms/step - loss: 1.2813 - accuracy: 0.7232 - val_loss: 0.9263 - val_accuracy: 0.8076\n",
      "Epoch 2/30\n",
      "253/253 [==============================] - 5s 19ms/step - loss: 0.4902 - accuracy: 0.8896 - val_loss: 0.8570 - val_accuracy: 0.8142\n",
      "Epoch 3/30\n",
      "253/253 [==============================] - 5s 18ms/step - loss: 0.2802 - accuracy: 0.9376 - val_loss: 0.9283 - val_accuracy: 0.8076\n",
      "Epoch 4/30\n",
      "253/253 [==============================] - 5s 18ms/step - loss: 0.2173 - accuracy: 0.9504 - val_loss: 0.9658 - val_accuracy: 0.8053\n",
      "Epoch 5/30\n",
      "253/253 [==============================] - 5s 19ms/step - loss: 0.2028 - accuracy: 0.9509 - val_loss: 0.9760 - val_accuracy: 0.8065\n",
      "Epoch 6/30\n",
      "253/253 [==============================] - 5s 18ms/step - loss: 0.1849 - accuracy: 0.9546 - val_loss: 0.9865 - val_accuracy: 0.8109\n",
      "Epoch 7/30\n",
      "253/253 [==============================] - 5s 19ms/step - loss: 0.1865 - accuracy: 0.9539 - val_loss: 1.0328 - val_accuracy: 0.8076\n",
      "Epoch 8/30\n",
      "253/253 [==============================] - 5s 19ms/step - loss: 0.1777 - accuracy: 0.9579 - val_loss: 1.0304 - val_accuracy: 0.8076\n",
      "Epoch 9/30\n",
      "253/253 [==============================] - 5s 18ms/step - loss: 0.1796 - accuracy: 0.9577 - val_loss: 1.0878 - val_accuracy: 0.7953\n",
      "Epoch 10/30\n",
      "253/253 [==============================] - 5s 18ms/step - loss: 0.1794 - accuracy: 0.9581 - val_loss: 1.0968 - val_accuracy: 0.7976\n",
      "Epoch 11/30\n",
      "253/253 [==============================] - 5s 19ms/step - loss: 0.1682 - accuracy: 0.9583 - val_loss: 1.0905 - val_accuracy: 0.8031\n",
      "Epoch 12/30\n",
      "253/253 [==============================] - 5s 18ms/step - loss: 0.1679 - accuracy: 0.9574 - val_loss: 1.1100 - val_accuracy: 0.7998\n",
      "Epoch 13/30\n",
      "253/253 [==============================] - 5s 18ms/step - loss: 0.1816 - accuracy: 0.9563 - val_loss: 1.1333 - val_accuracy: 0.8020\n",
      "Epoch 14/30\n",
      "253/253 [==============================] - 5s 19ms/step - loss: 0.1638 - accuracy: 0.9594 - val_loss: 1.1641 - val_accuracy: 0.7953\n",
      "Epoch 15/30\n",
      "253/253 [==============================] - 5s 19ms/step - loss: 0.1695 - accuracy: 0.9590 - val_loss: 1.2093 - val_accuracy: 0.7976\n",
      "Epoch 16/30\n",
      "253/253 [==============================] - 5s 19ms/step - loss: 0.1653 - accuracy: 0.9603 - val_loss: 1.1625 - val_accuracy: 0.7942\n",
      "Epoch 17/30\n",
      "253/253 [==============================] - 5s 18ms/step - loss: 0.1742 - accuracy: 0.9593 - val_loss: 1.1828 - val_accuracy: 0.8042\n",
      "Epoch 18/30\n",
      "253/253 [==============================] - 4s 18ms/step - loss: 0.1595 - accuracy: 0.9618 - val_loss: 1.1859 - val_accuracy: 0.7976\n",
      "Epoch 19/30\n",
      "253/253 [==============================] - 4s 18ms/step - loss: 0.1560 - accuracy: 0.9600 - val_loss: 1.2817 - val_accuracy: 0.7931\n",
      "Epoch 20/30\n",
      "253/253 [==============================] - 4s 18ms/step - loss: 0.1568 - accuracy: 0.9584 - val_loss: 1.2113 - val_accuracy: 0.7998\n",
      "Epoch 21/30\n",
      "253/253 [==============================] - 5s 18ms/step - loss: 0.1699 - accuracy: 0.9587 - val_loss: 1.2645 - val_accuracy: 0.7942\n",
      "Epoch 22/30\n",
      "253/253 [==============================] - 5s 18ms/step - loss: 0.1550 - accuracy: 0.9603 - val_loss: 1.3192 - val_accuracy: 0.7920\n",
      "Epoch 23/30\n",
      "253/253 [==============================] - 4s 18ms/step - loss: 0.1533 - accuracy: 0.9602 - val_loss: 1.3075 - val_accuracy: 0.7887\n",
      "Epoch 24/30\n",
      "253/253 [==============================] - 5s 18ms/step - loss: 0.1634 - accuracy: 0.9607 - val_loss: 1.3294 - val_accuracy: 0.7875\n",
      "Epoch 25/30\n",
      "253/253 [==============================] - 4s 18ms/step - loss: 0.1484 - accuracy: 0.9633 - val_loss: 1.3768 - val_accuracy: 0.7842\n",
      "Epoch 26/30\n",
      "253/253 [==============================] - 4s 18ms/step - loss: 0.1441 - accuracy: 0.9619 - val_loss: 1.4057 - val_accuracy: 0.7831\n",
      "Epoch 27/30\n",
      "253/253 [==============================] - 4s 18ms/step - loss: 0.1460 - accuracy: 0.9613 - val_loss: 1.3932 - val_accuracy: 0.8042\n",
      "Epoch 28/30\n",
      "253/253 [==============================] - 5s 18ms/step - loss: 0.1467 - accuracy: 0.9614 - val_loss: 1.3808 - val_accuracy: 0.7898\n",
      "Epoch 29/30\n",
      "253/253 [==============================] - 5s 18ms/step - loss: 0.1580 - accuracy: 0.9595 - val_loss: 1.4108 - val_accuracy: 0.7898\n",
      "Epoch 30/30\n",
      "253/253 [==============================] - 5s 19ms/step - loss: 0.1550 - accuracy: 0.9618 - val_loss: 1.4037 - val_accuracy: 0.7853\n",
      "71/71 [==============================] - 1s 7ms/step - loss: 1.3734 - accuracy: 0.7961\n",
      "Test loss: 1.3734283447265625\n",
      "Test accuracy: 0.7960819005966187\n"
     ]
    }
   ],
   "source": [
    "\n"
   ]
  },
  {
   "cell_type": "code",
   "execution_count": 31,
   "metadata": {},
   "outputs": [
    {
     "data": {
      "text/plain": [
       "array([3, 4, 3], dtype=int64)"
      ]
     },
     "execution_count": 31,
     "metadata": {},
     "output_type": "execute_result"
    }
   ],
   "source": []
  },
  {
   "cell_type": "code",
   "execution_count": null,
   "metadata": {},
   "outputs": [],
   "source": []
  },
  {
   "cell_type": "code",
   "execution_count": 22,
   "metadata": {},
   "outputs": [],
   "source": []
  },
  {
   "cell_type": "code",
   "execution_count": 23,
   "metadata": {
    "collapsed": true,
    "jupyter": {
     "outputs_hidden": true
    }
   },
   "outputs": [
    {
     "ename": "NameError",
     "evalue": "name 'np' is not defined",
     "output_type": "error",
     "traceback": [
      "\u001b[0;31m---------------------------------------------------------------------------\u001b[0m",
      "\u001b[0;31mNameError\u001b[0m                                 Traceback (most recent call last)",
      "\u001b[0;32m<ipython-input-23-bd65763a932e>\u001b[0m in \u001b[0;36m<module>\u001b[0;34m\u001b[0m\n\u001b[0;32m----> 1\u001b[0;31m \u001b[0mprint\u001b[0m\u001b[0;34m(\u001b[0m\u001b[0mnp\u001b[0m\u001b[0;34m.\u001b[0m\u001b[0margmax\u001b[0m\u001b[0;34m(\u001b[0m\u001b[0my\u001b[0m\u001b[0;34m,\u001b[0m\u001b[0maxis\u001b[0m\u001b[0;34m=\u001b[0m\u001b[0;36m1\u001b[0m\u001b[0;34m)\u001b[0m\u001b[0;34m)\u001b[0m\u001b[0;34m\u001b[0m\u001b[0;34m\u001b[0m\u001b[0m\n\u001b[0m",
      "\u001b[0;31mNameError\u001b[0m: name 'np' is not defined"
     ]
    }
   ],
   "source": []
  },
  {
   "cell_type": "code",
   "execution_count": null,
   "metadata": {},
   "outputs": [],
   "source": [
    "import seaborn as sns\n",
    "import matplotlib.pyplot as plt\n",
    "%matplotlib inline"
   ]
  },
  {
   "cell_type": "code",
   "execution_count": 24,
   "metadata": {
    "collapsed": true,
    "jupyter": {
     "outputs_hidden": true
    }
   },
   "outputs": [
    {
     "ename": "NameError",
     "evalue": "name 'plt' is not defined",
     "output_type": "error",
     "traceback": [
      "\u001b[0;31m---------------------------------------------------------------------------\u001b[0m",
      "\u001b[0;31mNameError\u001b[0m                                 Traceback (most recent call last)",
      "\u001b[0;32m<ipython-input-24-3239a75ab44a>\u001b[0m in \u001b[0;36m<module>\u001b[0;34m\u001b[0m\n\u001b[0;32m----> 1\u001b[0;31m \u001b[0mplt\u001b[0m\u001b[0;34m.\u001b[0m\u001b[0mclf\u001b[0m\u001b[0;34m(\u001b[0m\u001b[0;34m)\u001b[0m\u001b[0;34m\u001b[0m\u001b[0;34m\u001b[0m\u001b[0m\n\u001b[0m\u001b[1;32m      2\u001b[0m \u001b[0mloss\u001b[0m \u001b[0;34m=\u001b[0m \u001b[0mhistory\u001b[0m\u001b[0;34m.\u001b[0m\u001b[0mhistory\u001b[0m\u001b[0;34m[\u001b[0m\u001b[0;34m'loss'\u001b[0m\u001b[0;34m]\u001b[0m\u001b[0;34m\u001b[0m\u001b[0;34m\u001b[0m\u001b[0m\n\u001b[1;32m      3\u001b[0m \u001b[0mval_loss\u001b[0m \u001b[0;34m=\u001b[0m \u001b[0mhistory\u001b[0m\u001b[0;34m.\u001b[0m\u001b[0mhistory\u001b[0m\u001b[0;34m[\u001b[0m\u001b[0;34m'val_loss'\u001b[0m\u001b[0;34m]\u001b[0m\u001b[0;34m\u001b[0m\u001b[0;34m\u001b[0m\u001b[0m\n\u001b[1;32m      4\u001b[0m \u001b[0mepochs\u001b[0m \u001b[0;34m=\u001b[0m \u001b[0mrange\u001b[0m\u001b[0;34m(\u001b[0m\u001b[0;36m1\u001b[0m\u001b[0;34m,\u001b[0m \u001b[0mlen\u001b[0m\u001b[0;34m(\u001b[0m\u001b[0mloss\u001b[0m\u001b[0;34m)\u001b[0m \u001b[0;34m+\u001b[0m \u001b[0;36m1\u001b[0m\u001b[0;34m)\u001b[0m\u001b[0;34m\u001b[0m\u001b[0;34m\u001b[0m\u001b[0m\n\u001b[1;32m      5\u001b[0m \u001b[0mplt\u001b[0m\u001b[0;34m.\u001b[0m\u001b[0mplot\u001b[0m\u001b[0;34m(\u001b[0m\u001b[0mepochs\u001b[0m\u001b[0;34m,\u001b[0m \u001b[0mloss\u001b[0m\u001b[0;34m,\u001b[0m \u001b[0;34m'bo'\u001b[0m\u001b[0;34m,\u001b[0m \u001b[0mlabel\u001b[0m\u001b[0;34m=\u001b[0m\u001b[0;34m'Training loss'\u001b[0m\u001b[0;34m)\u001b[0m\u001b[0;34m\u001b[0m\u001b[0;34m\u001b[0m\u001b[0m\n",
      "\u001b[0;31mNameError\u001b[0m: name 'plt' is not defined"
     ]
    }
   ],
   "source": [
    "plt.clf()\n",
    "loss = history.history['loss']\n",
    "val_loss = history.history['val_loss']\n",
    "epochs = range(1, len(loss) + 1)\n",
    "plt.plot(epochs, loss, 'bo', label='Training loss')\n",
    "plt.plot(epochs, val_loss, 'b', label='Validation loss')\n",
    "plt.title('Training and validation loss')\n",
    "plt.xlabel('Epochs')\n",
    "plt.ylabel('Loss')\n",
    "plt.legend()\n",
    "plt.show()\n"
   ]
  },
  {
   "cell_type": "markdown",
   "metadata": {},
   "source": [
    "<br><br><br><br><br>"
   ]
  },
  {
   "cell_type": "code",
   "execution_count": null,
   "metadata": {},
   "outputs": [],
   "source": []
  },
  {
   "cell_type": "code",
   "execution_count": null,
   "metadata": {},
   "outputs": [],
   "source": []
  },
  {
   "cell_type": "code",
   "execution_count": null,
   "metadata": {},
   "outputs": [],
   "source": []
  },
  {
   "cell_type": "code",
   "execution_count": null,
   "metadata": {},
   "outputs": [],
   "source": []
  },
  {
   "cell_type": "code",
   "execution_count": null,
   "metadata": {},
   "outputs": [],
   "source": []
  },
  {
   "cell_type": "code",
   "execution_count": null,
   "metadata": {},
   "outputs": [],
   "source": []
  },
  {
   "cell_type": "code",
   "execution_count": null,
   "metadata": {},
   "outputs": [],
   "source": []
  }
 ],
 "metadata": {
  "kernelspec": {
   "display_name": "Python 3 (ipykernel)",
   "language": "python",
   "name": "python3"
  },
  "language_info": {
   "codemirror_mode": {
    "name": "ipython",
    "version": 3
   },
   "file_extension": ".py",
   "mimetype": "text/x-python",
   "name": "python",
   "nbconvert_exporter": "python",
   "pygments_lexer": "ipython3",
   "version": "3.10.6"
  },
  "nteract": {
   "version": "0.28.0"
  }
 },
 "nbformat": 4,
 "nbformat_minor": 4
}
