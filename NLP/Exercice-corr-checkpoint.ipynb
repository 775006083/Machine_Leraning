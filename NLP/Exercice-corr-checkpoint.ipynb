{
 "cells": [
  {
   "cell_type": "markdown",
   "metadata": {},
   "source": [
    "# Word embedding"
   ]
  },
  {
   "cell_type": "markdown",
   "metadata": {},
   "source": [
    "## Step 1: Chargement et preprocessing "
   ]
  },
  {
   "cell_type": "markdown",
   "metadata": {},
   "source": [
    "**a. Charger le fichier text se trouvant dans le repertoir  data ('data/src.txt')**"
   ]
  },
  {
   "cell_type": "code",
   "execution_count": 14,
   "metadata": {},
   "outputs": [],
   "source": [
    "text = open('data/src.txt').readlines()\n"
   ]
  },
  {
   "cell_type": "markdown",
   "metadata": {},
   "source": [
    "**b. Faite les netoyages necessaires sur les données**"
   ]
  },
  {
   "cell_type": "code",
   "execution_count": 15,
   "metadata": {},
   "outputs": [],
   "source": [
    "import os, re, string\n",
    "from nltk.tokenize import word_tokenize\n",
    "\n",
    "def clean_doc(doc):\n",
    "    \"\"\"\n",
    "    Cleaning a document by several methods\n",
    "    \"\"\"\n",
    "    # Lowercase\n",
    "    doc = doc.lower()\n",
    "    # Remove numbers\n",
    "    doc = re.sub(r\"[0-9]+\", \"\", doc)\n",
    "    # Split in tokens\n",
    "    tokens = doc.split()\n",
    "    # Remove punctuation\n",
    "    tokens = [w.translate(str.maketrans('', '', string.punctuation)) for w in tokens]\n",
    "    # Tokens with less then two characters will be ignored\n",
    "    tokens = [word for word in tokens if len(word) > 1]\n",
    "    return ' '.join(tokens)\n"
   ]
  },
  {
   "cell_type": "code",
   "execution_count": 16,
   "metadata": {},
   "outputs": [
    {
     "name": "stdout",
     "output_type": "stream",
     "text": [
      "Number sentence: 33303\n"
     ]
    }
   ],
   "source": [
    "\n",
    "clean_corpus = [clean_doc(sent) for sent in text]\n",
    "tokenized_corpus = [sent.split() for sent in clean_corpus]\n",
    "\n",
    "\n",
    "#docs = read_files(TEXT_DIR)\n",
    "print('Number sentence: %i' % len(text))"
   ]
  },
  {
   "cell_type": "code",
   "execution_count": 19,
   "metadata": {},
   "outputs": [
    {
     "name": "stdout",
     "output_type": "stream",
     "text": [
      "[['fr'], ['reprise', 'de', 'la', 'session'], ['je', 'declare', 'reprise', 'la', 'session', 'du', 'parlement', 'europeen', 'qui', 'avait', 'ete', 'interrompue', 'le', 'vendredi', 'decembre', 'dernier', 'et', 'je', 'vous', 'renouvelle', 'tous', 'mes', 'vux', 'en', 'esperant', 'que', 'vous', 'avez', 'passe', 'de', 'bonnes', 'vacances'], ['vous', 'avez', 'souhaite', 'un', 'debat', 'ce', 'sujet', 'dans', 'les', 'prochains', 'jours', 'au', 'cours', 'de', 'cette', 'periode', 'de', 'session'], ['je', 'vous', 'invite', 'vous', 'lever', 'pour', 'cette', 'minute', 'de', 'silence'], ['le', 'parlement', 'debout', 'observe', 'une', 'minute', 'de', 'silence'], ['madame', 'la', 'presidente', 'est', 'une', 'motion', 'de', 'procedure'], ['vous', 'avez', 'probablement', 'appris', 'par', 'la', 'presse', 'et', 'par', 'la', 'television', 'que', 'plusieurs', 'attentats', 'la', 'bombe', 'et', 'crimes', 'ont', 'ete', 'perpetres', 'au', 'sri', 'lanka'], ['une', 'des', 'personnes', 'qui', 'vient', 'etre', 'assassinee', 'au', 'sri', 'lanka', 'est', 'kumar', 'ponnambalam', 'qui', 'avait', 'rendu', 'visite', 'au', 'parlement', 'europeen', 'il', 'quelques', 'mois', 'peine'], ['oui', 'monsieur', 'evans', 'je', 'pense', 'qu', 'une', 'initiative', 'dans', 'le', 'sens', 'que', 'vous', 'venez', 'de', 'suggerer', 'serait', 'tout', 'fait', 'appropriee'], ['si', 'assemblee', 'en', 'est', 'accord', 'je', 'ferai', 'comme', 'evans', 'suggere'], ['madame', 'la', 'presidente', 'est', 'une', 'motion', 'de', 'procedure'], ['je', 'voudrais', 'vous', 'demander', 'un', 'conseil', 'au', 'sujet', 'de', 'article', 'qui', 'concerne', 'irrecevabilite'], ['ma', 'question', 'porte', 'sur', 'un', 'sujet', 'qui', 'est', 'ordre', 'du', 'jour', 'du', 'jeudi', 'et', 'que', 'je', 'souleverai', 'donc', 'une', 'nouvelle', 'fois'], ['il', 'precise', 'que', 'cela', 'devrait', 'etre', 'fait', 'malgre', 'le', 'principe', 'de', 'stabilite', 'relative'], ['mon', 'sens', 'le', 'principe', 'de', 'stabilite', 'relative', 'est', 'un', 'principe', 'juridique', 'fondamental', 'de', 'la', 'politique', 'commune', 'de', 'la', 'peche', 'et', 'toute', 'proposition', 'le', 'bouleversant', 'serait', 'juridiquement', 'irrecevable'], ['je', 'voudrais', 'savoir', 'si', 'on', 'peut', 'avancer', 'une', 'objection', 'de', 'ce', 'type', 'ce', 'qui', 'est', 'qu', 'un', 'rapport', 'pas', 'une', 'proposition', 'legislative', 'et', 'si', 'je', 'suis', 'habilite', 'le', 'faire', 'ce', 'jeudi'], ['est', 'exactement', 'ce', 'moment', 'la', 'que', 'vous', 'pourrez', 'en', 'effet', 'si', 'vous', 'le', 'souhaitez', 'soulever', 'cette', 'question', 'est', 'dire', 'jeudi', 'avant', 'le', 'debut', 'de', 'la', 'presentation', 'du', 'rapport'], ['la', 'demande', 'un', 'depute', 'francais', 'monsieur', 'zimeray', 'une', 'petition', 'deja', 'ete', 'introduite', 'elle', 'recolte', 'de', 'nombreuses', 'signatures', 'dont', 'la', 'mienne'], ['et', 'tout', 'ceci', 'dans', 'le', 'respect', 'des', 'principes', 'que', 'nous', 'avons', 'toujours', 'soutenus'], ['merci', 'monsieur', 'segni', 'je', 'le', 'ferai', 'bien', 'volontiers'], ['est', 'en', 'effet', 'tout', 'fait', 'dans', 'la', 'ligne', 'des', 'positions', 'que', 'notre', 'parlement', 'toujours', 'adoptees'], ['madame', 'la', 'presidente', 'je', 'voudrais', 'attirer', 'votre', 'attention', 'sur', 'un', 'cas', 'dont', 'est', 'regulierement', 'occupe', 'le', 'parlement'], ['il', 'agit', 'du', 'cas', 'alexandre', 'nikitin'], ['nous', 'nous', 'rejouissons', 'tous', 'dans', 'cette', 'enceinte', 'que', 'le', 'tribunal', 'ait', 'prononce', 'sa', 'liberation', 'et', 'ait', 'clairement', 'etabli', 'qu', 'en', 'russie', 'aussi', 'acces', 'aux', 'informations', 'environnementales', 'etait', 'un', 'droit', 'constitutionnel'], ['cependant', 'il', 'se', 'fait', 'qu', 'il', 'semblerait', 'etre', 'nouveau', 'mis', 'en', 'accusation', 'le', 'ministere', 'public', 'ayant', 'interjete', 'appel'], ['oui', 'madame', 'schroedter', 'examinerai', 'bien', 'volontiers', 'les', 'faits', 'relatifs', 'cette', 'question', 'lorsque', 'aurai', 'recu', 'votre', 'lettre'], ['toutefois', 'madame', 'la', 'presidente', 'ce', 'que', 'avais', 'demande', 'pas', 'ete', 'realise'], ['je', 'vous', 'demande', 'donc', 'nouveau', 'de', 'faire', 'le', 'necessaire', 'pour', 'que', 'nous', 'puissions', 'disposer', 'une', 'chaine', 'neerlandaise'], ['madame', 'plooij', 'van', 'gorsel', 'je', 'peux', 'vous', 'dire', 'que', 'cette', 'question', 'est', 'ordre', 'du', 'jour', 'de', 'la', 'reunion', 'des', 'questeurs', 'de', 'mercredi'], ['elle', 'sera', 'je', 'espere', 'examinee', 'dans', 'un', 'esprit', 'positif'], ['madame', 'la', 'presidente', 'comment', 'se', 'fait', 'il', 'que', 'le', 'parlement', 'ne', 'se', 'conforme', 'pas', 'la', 'reglementation', 'en', 'matiere', 'de', 'sante', 'et', 'de', 'securite', 'qu', 'il', 'vote'], ['comment', 'se', 'fait', 'il', 'qu', 'aucun', 'test', 'de', 'qualite', 'de', 'air', 'ait', 'ete', 'realise', 'dans', 'ce', 'batiment', 'depuis', 'notre', 'election'], ['comment', 'se', 'fait', 'il', 'que', 'le', 'comite', 'de', 'sante', 'et', 'hygiene', 'ne', 'se', 'soit', 'plus', 'reuni', 'depuis'], ['comment', 'se', 'fait', 'il', 'que', 'nous', 'ayons', 'jamais', 'fait', 'exercice', 'evacuation', 'dans', 'les', 'batiments', 'du', 'parlement', 'de', 'bruxelles', 'et', 'de', 'strasbourg'], ['comment', 'se', 'fait', 'il', 'qu', 'il', 'ait', 'pas', 'de', 'consignes', 'en', 'cas', 'incendie'], ['comment', 'se', 'fait', 'il', 'que', 'les', 'escaliers', 'aient', 'pas', 'ete', 'ameliores', 'depuis', 'mon', 'accident'], ['comment', 'se', 'fait', 'il', 'que', 'on', 'ne', 'respecte', 'pas', 'les', 'zones', 'non', 'fumeurs'], ['nous', 'votons', 'des', 'reglementations', 'et', 'nous', 'ne', 'nous', 'conformons', 'meme', 'pas', 'est', 'scandaleux'], ['madame', 'lynne', 'vous', 'avez', 'parfaitement', 'raison', 'et', 'je', 'vais', 'verifier', 'si', 'tout', 'cela', 'effectivement', 'pas', 'ete', 'fait'], ['je', 'vais', 'soumettre', 'egalement', 'le', 'probleme', 'au', 'college', 'des', 'questeurs', 'et', 'je', 'suis', 'certaine', 'que', 'nos', 'questeurs', 'auront', 'cur', 'de', 'faire', 'en', 'sorte', 'que', 'nous', 'respections', 'la', 'reglementation', 'qu', 'en', 'effet', 'nous', 'votons'], ['madame', 'la', 'presidente', 'mme', 'diez', 'gonzalez', 'et', 'moi', 'meme', 'avions', 'presente', 'quelques', 'questions', 'sur', 'certaines', 'opinions', 'exprimees', 'par', 'la', 'vice', 'presidente', 'mme', 'de', 'palacio', 'et', 'publiees', 'dans', 'un', 'journal', 'espagnol'], ['les', 'services', 'competents', 'ne', 'les', 'ont', 'pas', 'inclues', 'ordre', 'du', 'jour', 'avancant', 'que', 'des', 'reponses', 'avaient', 'deja', 'ete', 'apportees', 'lors', 'une', 'precedente', 'session'], ['je', 'demande', 'que', 'cette', 'decision', 'soit', 'reconsideree', 'car', 'ce', 'est', 'pas', 'le', 'cas'], ['les', 'questions', 'auxquelles', 'on', 'repondu', 'precedemment', 'se', 'rapportaient', 'intervention', 'de', 'mme', 'de', 'palacio', 'dans', 'un', 'dossier', 'precis', 'et', 'non', 'aux', 'declarations', 'parues', 'dans', 'le', 'journal', 'abc', 'du', 'novembre', 'dernier'], ['cher', 'collegue', 'nous', 'allons', 'verifier', 'tout', 'cela'], ['je', 'vous', 'avouerai', 'que', 'pour', 'le', 'moment', 'les', 'choses', 'me', 'semblent', 'un', 'petit', 'peu', 'confuses'], ['donc', 'nous', 'allons', 'revoir', 'cela', 'tres', 'serieusement', 'pour', 'que', 'tout', 'soit', 'bien', 'en', 'ordre'], ['la', 'decision', 'aujourd', 'hui', 'de', 'ne', 'pas', 'renouveler', 'embargo', 'est', 'extremement', 'dangereuse', 'compte', 'tenu', 'de', 'la', 'situation', 'sur', 'place'], ['le', 'parlement', 'devrait', 'des', 'lors', 'envoyer', 'un', 'message', 'en', 'ce', 'sens', 'etant', 'donne', 'qu', 'une', 'grande', 'majorite', 'des', 'deputes', 'le', 'souhaite'], ['en', 'refusant', 'de', 'prolonger', 'embargo', 'les', 'etats', 'membres', 'font', 'preuve', 'irresponsabilite'], ['aucuns', 'ont', 'dit', 'la', 'situation', 'en', 'indonesie', 'est', 'extremement', 'explosive'], ['il', 'en', 'realite', 'un', 'risque', 'de', 'coup', 'etat'], ['nous', 'ne', 'savons', 'pas', 'ce', 'qui', 'se', 'passe'], ['pourquoi', 'donc', 'les', 'producteurs', 'armes', 'de', 'ue', 'devraient', 'ils', 'enrichir', 'sur', 'le', 'dos', 'de', 'personnes', 'innocentes'], ['en', 'tout', 'cas', 'cette', 'question', 'ne', 'figure', 'pas', 'pour', 'instant', 'parmi', 'les', 'demandes', 'urgence', 'pour', 'jeudi', 'prochain'], ['ordre', 'des', 'travaux'], ['agissant', 'de', 'lundi', 'et', 'mardi', 'je', 'ai', 'pas', 'de', 'modifications'], ['en', 'ce', 'qui', 'concerne', 'le', 'mercredi'], ['le', 'groupe', 'socialiste', 'demande', 'inclure', 'une', 'declaration', 'de', 'la', 'commission', 'sur', 'ses', 'objectifs', 'strategiques', 'pour', 'les', 'cinq', 'ans', 'venir', 'ainsi', 'que', 'sur', 'la', 'reforme', 'administrative', 'de', 'la', 'commission'], ['je', 'souhaiterais', 'que', 'baron', 'crespo', 'auteur', 'de', 'la', 'demande', 'intervienne', 'pour', 'la', 'justifier', 'il', 'le', 'souhaite', 'bien', 'sur'], ['puis', 'nous', 'ferons', 'comme', 'habitude', 'nous', 'entendrons', 'un', 'orateur', 'pour', 'et', 'un', 'orateur', 'contre'], ['il', 'est', 'donc', 'ecoule', 'suffisamment', 'de', 'temps', 'pour', 'que', 'la', 'commission', 'prepare', 'son', 'programme', 'et', 'pour', 'que', 'nous', 'puissions', 'en', 'prendre', 'connaissance', 'et', 'expliquer', 'aux', 'citoyens'], ['en', 'ce', 'sens', 'je', 'vous', 'rappelle', 'la', 'resolution', 'du', 'septembre', 'laquelle', 'recommandait', 'que', 'la', 'proposition', 'soit', 'presentee', 'dans', 'les', 'plus', 'brefs', 'delais'], ['aux', 'dires', 'de', 'son', 'president', 'la', 'commission', 'serait', 'en', 'mesure', 'de', 'le', 'faire'], ['je', 'vous', 'prie', 'des', 'lors', 'madame', 'la', 'presidente', 'de', 'demander', 'la', 'commission', 'de', 'exprimer', 'maintenant', 'et', 'que', 'on', 'procede', 'ensuite', 'au', 'vote'], ['applaudissements', 'du', 'groupe', 'pse'], ['par', 'consequent', 'nous', 'respectons', 'les', 'decisions', 'que', 'pourrait', 'prendre', 'le', 'parlement', 'dans', 'ce', 'sens'], ['je', 'voudrais', 'dire', 'madame', 'la', 'presidente', 'que', 'dans', 'accord', 'auquel', 'on', 'est', 'parvenu', 'au', 'mois', 'de', 'septembre', 'ce', 'debat', 'differe', 'de', 'la', 'presentation', 'annuelle', 'du', 'programme', 'legislatif', 'de', 'la', 'commission'], ['je', 'propose', 'que', 'nous', 'votions', 'sur', 'la', 'demande', 'du', 'groupe', 'socialiste', 'visant', 'reinscrire', 'la', 'declaration', 'de', 'la', 'commission', 'sur', 'ses', 'objectifs', 'strategiques'], ['le', 'parlement', 'rejette', 'la', 'demande', 'la', 'presidente'], ['toujours', 'au', 'sujet', 'de', 'la', 'journee', 'du', 'mercredi', 'ai', 'une', 'autre', 'proposition', 'concernant', 'la', 'question', 'orale', 'sur', 'impot', 'sur', 'le', 'capital'], ['le', 'groupe', 'ppe', 'de', 'demande', 'de', 'retirer', 'ce', 'point', 'de', 'ordre', 'du', 'jour'], ['il', 'un', 'collegue', 'pour', 'prendre', 'la', 'parole', 'au', 'nom', 'du', 'groupe', 'et', 'justifier', 'cette', 'demande'], ['des', 'decisions', 'existent', 'qui', 'opposent', 'une', 'telle', 'taxe'], ['est', 'pourquoi', 'mon', 'groupe', 'demande', 'que', 'ce', 'point', 'soit', 'retire', 'de', 'ordre', 'du', 'jour'], ['merci', 'monsieur', 'poettering'], ['nous', 'entendons', 'present', 'wurtz', 'qui', 'exprime', 'contre', 'cette', 'demande'], ['madame', 'la', 'presidente', 'je', 'voudrais', 'abord', 'souligner', 'le', 'manque', 'de', 'logique', 'de', 'poettering'], ['ce', 'est', 'pas', 'demander', 'beaucoup'], ['nous', 'allons', 'voter', 'sur', 'la', 'demande', 'du', 'groupe', 'ppe', 'de', 'visant', 'retirer', 'la', 'question', 'orale', 'concernant', 'impot', 'sur', 'le', 'capital', 'de', 'ordre', 'du', 'jour'], ['le', 'parlement', 'rejette', 'la', 'demande', 'avec', 'voix', 'pour', 'voix', 'contre', 'et', 'abstentions'], ['madame', 'la', 'presidente', 'je', 'voudrais', 'remercier', 'poettering', 'pour', 'le', 'coup', 'de', 'publicite', 'qu', 'il', 'vient', 'de', 'donner', 'ce', 'debat'], ['merci'], ['madame', 'la', 'presidente', 'on', 'comptabilise', 'mon', 'vote', 'qui', 'pu', 'etre', 'realise', 'electroniquement', 'parce', 'que', 'je', 'ai', 'pas', 'ma', 'carte'], ['ai', 'vote', 'pour'], ['effectivement', 'si', 'on', 'ajoute', 'les', 'deux', 'collegues', 'qui', 'se', 'sont', 'manifestes', 'nous', 'obtenons', 'comme', 'resultat'], ['madame', 'la', 'presidente', 'la', 'presidence', 'proclame', 'le', 'resultat', 'du', 'vote'], ['les', 'modifications', 'ont', 'pas', 'lieu', 'etre'], ['mais', 'ma', 'demande', 'pas', 'ete', 'satisfaite'], ['je', 'vous', 'saurai', 'gre', 'issue', 'de', 'ce', 'point', 'de', 'ordre', 'du', 'jour', 'de', 'me', 'permettre', 'de', 'fournir', 'un', 'explication', 'de', 'vote', 'au', 'nom', 'de', 'mon', 'groupe'], ['est', 'important'], ['il', 'serait', 'utile', 'de', 'consigner', 'au', 'proces', 'verbal', 'du', 'parlement', 'la', 'maniere', 'dont', 'les', 'gens', 'percoivent', 'ce', 'que', 'nous', 'venons', 'de', 'faire', 'la', 'lumiere', 'de', 'leur', 'propre', 'analyse', 'politique'], ['madame', 'la', 'presidente', 'je', 'ne', 'veux', 'pas', 'relancer', 'le', 'debat', 'mais', 'avais', 'egalement', 'demande', 'la', 'parole', 'pour', 'exprimer', 'quant', 'la', 'demande', 'de', 'baron', 'crespo'], ['moi', 'non', 'plus', 'vous', 'ne', 'avez', 'pas', 'donne', 'la', 'parole'], ['je', 'le', 'deplore', 'mais', 'le', 'vote', 'ete', 'effectue', 'la', 'decision', 'est', 'tombee', 'et', 'nous', 'devrions', 'donc', 'en', 'rester', 'la'], ['je', 'suis', 'desolee', 'monsieur', 'hansch', 'et', 'monsieur', 'cox', 'je', 'avais', 'pas', 'vu', 'que', 'vous', 'demandiez', 'la', 'parole'], ['cela', 'etant', 'je', 'crois', 'que', 'les', 'positions', 'sont', 'bien', 'claires', 'et', 'elles', 'seront', 'consignees', 'au', 'proces', 'verbal'], ['lorsque', 'nous', 'adopterons', 'demain', 'le', 'proces', 'verbal', 'de', 'la', 'seance', 'aujourd', 'hui', 'les', 'collegues', 'qui', 'estimeront', 'que', 'les', 'positions', 'ont', 'pas', 'ete', 'suffisamment', 'bien', 'expliquees', 'pourront', 'demander', 'des', 'modifications'], ['il', 'me', 'semble', 'que', 'est', 'une', 'bonne', 'formule']]\n"
     ]
    }
   ],
   "source": [
    "print(tokenized_corpus[0:100])"
   ]
  },
  {
   "cell_type": "markdown",
   "metadata": {},
   "source": [
    "## Step 2: Entrianement du model"
   ]
  },
  {
   "cell_type": "markdown",
   "metadata": {},
   "source": [
    "**a. definissez les hyperparametres du model Word2Vec de gensim.models (embedding_size=300, window_size=3,min_count=2)**"
   ]
  },
  {
   "cell_type": "code",
   "execution_count": 9,
   "metadata": {},
   "outputs": [],
   "source": [
    "EMBEDDING_SIZE=300\n",
    "window_size=3\n",
    "min_count = 2"
   ]
  },
  {
   "cell_type": "markdown",
   "metadata": {},
   "source": [
    "**b. Entrainer le models sur le corpus d'apprentissage**"
   ]
  },
  {
   "cell_type": "code",
   "execution_count": 10,
   "metadata": {},
   "outputs": [],
   "source": [
    "import gensim\n",
    "import tensorflow as tf\n",
    "model = gensim.models.Word2Vec(tokenized_corpus, size=EMBEDDING_SIZE, window=window_size, min_count=min_count)"
   ]
  },
  {
   "cell_type": "markdown",
   "metadata": {},
   "source": [
    "## Step 3: Enregistrement du model"
   ]
  },
  {
   "cell_type": "markdown",
   "metadata": {},
   "source": [
    "**sauvez le model dans le dossier de votre projet**"
   ]
  },
  {
   "cell_type": "code",
   "execution_count": 12,
   "metadata": {},
   "outputs": [],
   "source": [
    "# Directory for saving checkpoint and metadata\n",
    "MODEL_DIR = 'results'\n",
    "if not os.path.exists(MODEL_DIR):\n",
    "    os.makedirs(MODEL_DIR)\n",
    "model.save(os.path.join(MODEL_DIR,'word2vec'))"
   ]
  },
  {
   "cell_type": "markdown",
   "metadata": {},
   "source": [
    "## Step 4: Recherche de voisinages\n",
    "\n",
    "**Choisissez quelques et recherchez les 5 mots qui leur sont les plus similaires selon le model (methode most_similar())** "
   ]
  },
  {
   "cell_type": "code",
   "execution_count": 13,
   "metadata": {},
   "outputs": [
    {
     "data": {
      "text/plain": [
       "[('saine', 0.9818891286849976),\n",
       " ('stricte', 0.9808477163314819),\n",
       " ('pierres', 0.9750308990478516),\n",
       " ('restaurer', 0.9749742746353149),\n",
       " ('ouverte', 0.973358154296875),\n",
       " ('rationnelle', 0.9723220467567444),\n",
       " ('equilibree', 0.9715859293937683),\n",
       " ('influence', 0.9705218076705933),\n",
       " ('solidaire', 0.9702563285827637),\n",
       " ('forte', 0.9691362977027893)]"
      ]
     },
     "execution_count": 13,
     "metadata": {},
     "output_type": "execute_result"
    }
   ],
   "source": [
    "model.wv.most_similar(positive=['appropriee'], topn=10)"
   ]
  },
  {
   "cell_type": "code",
   "execution_count": null,
   "metadata": {},
   "outputs": [],
   "source": []
  }
 ],
 "metadata": {
  "kernelspec": {
   "display_name": "Python 3 (ipykernel)",
   "language": "python",
   "name": "python3"
  },
  "language_info": {
   "codemirror_mode": {
    "name": "ipython",
    "version": 3
   },
   "file_extension": ".py",
   "mimetype": "text/x-python",
   "name": "python",
   "nbconvert_exporter": "python",
   "pygments_lexer": "ipython3",
   "version": "3.10.6"
  }
 },
 "nbformat": 4,
 "nbformat_minor": 4
}
